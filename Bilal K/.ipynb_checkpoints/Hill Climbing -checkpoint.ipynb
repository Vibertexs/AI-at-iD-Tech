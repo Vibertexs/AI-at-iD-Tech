{
 "cells": [
  {
   "cell_type": "code",
   "execution_count": 1,
   "metadata": {},
   "outputs": [
    {
     "name": "stdout",
     "output_type": "stream",
     "text": [
      "Give a number for dimension: 3\n"
     ]
    }
   ],
   "source": [
    "import random as r\n",
    "import tensorflow as tf\n",
    "\n",
    "# the size of the board given by the user\n",
    "size = int(input(\"Give a number for dimension: \"))\n",
    "\n",
    "# randomly generate an n x n board\n",
    "def initboard(n):\n",
    "    # initialize a board to return\n",
    "    board = []\n",
    "    # go through the board to initialize the random values\n",
    "    for i in range(n):\n",
    "        temp = []\n",
    "        for j in range(n):\n",
    "            temp.append(r.randint(1,n-1))\n",
    "        board.append(temp) \n",
    "    board[n-1][n-1] = 0\n",
    "    # return the board when complete\n",
    "    return board\n",
    "\n",
    "# printing out the board ex) 4 x 4 board\n",
    "# _______________________\n",
    "# 4 | 1 | 2 | 3 | \n",
    "# _______________________\n",
    "# 3 | 1 | 1 | 1 | \n",
    "# _______________________\n",
    "# 1 | 2 | 1 | 2 | \n",
    "# _______________________\n",
    "# 2 | 1 | 1 | 2 | \n",
    "# _______________________\n",
    "def showboard(x):\n",
    "    print('_______________________')\n",
    "    for e in x:\n",
    "        for element in e:\n",
    "            print(str(element), end=\"\")\n",
    "            print(\" | \", end=\"\")\n",
    "        print('\\n' + '_______________________')\n"
   ]
  },
  {
   "cell_type": "code",
   "execution_count": 2,
   "metadata": {},
   "outputs": [
    {
     "name": "stdout",
     "output_type": "stream",
     "text": [
      "[[1, 2, 1], [1, 2, 1], [1, 1, 0]]\n",
      "_______________________\n",
      "1 | 2 | 1 | \n",
      "_______________________\n",
      "1 | 2 | 1 | \n",
      "_______________________\n",
      "1 | 1 | 0 | \n",
      "_______________________\n"
     ]
    }
   ],
   "source": [
    "# initialize the board\n",
    "b = initboard(size)\n",
    "print(b)\n",
    "# showboard(board)\n",
    "showboard(b)\n",
    "#showboard(evaluateboard(b))"
   ]
  },
  {
   "cell_type": "code",
   "execution_count": 3,
   "metadata": {},
   "outputs": [],
   "source": [
    "def copyBoard(board):\n",
    "    newBoard = []\n",
    "    for i in range(len(board)):\n",
    "        newBoard.append(board[i].copy())\n",
    "    return newBoard"
   ]
  },
  {
   "cell_type": "code",
   "execution_count": 4,
   "metadata": {
    "scrolled": true
   },
   "outputs": [
    {
     "name": "stdout",
     "output_type": "stream",
     "text": [
      "_______________________\n",
      "0 | -1 | -1 | \n",
      "_______________________\n",
      "-1 | -1 | -1 | \n",
      "_______________________\n",
      "-1 | -1 | -1 | \n",
      "_______________________\n",
      "[[0, -1, -1], [-1, -1, -1], [-1, -1, -1]]\n",
      "_______________________\n",
      "0 | 1 | -1 | \n",
      "_______________________\n",
      "1 | 2 | -1 | \n",
      "_______________________\n",
      "2 | 2 | 3 | \n",
      "_______________________\n"
     ]
    }
   ],
   "source": [
    "def evaluateboard(b, evaluation, currenteval, size):\n",
    "    for i in range(size):\n",
    "        for j in range(size):\n",
    "            if evaluation[i][j] == currenteval:\n",
    "                move = b[i][j]\n",
    "                # moves down a row\n",
    "                if (i+move) < size and evaluation[i+move][j] == -1:\n",
    "                        evaluation[i+move][j] = currenteval + 1\n",
    "                # moves to the right of a column\n",
    "                if (j+move) < size and evaluation[i][j+move] == -1:\n",
    "                        evaluation[i][j+move] = currenteval + 1\n",
    "                # moves up a row\n",
    "                if (i-move) > 0 and evaluation[i-move][j] == -1:\n",
    "                        evaluation[i-move][j] = currenteval + 1\n",
    "                # moves to the left of a column\n",
    "                if (j-move) > 0 and evaluation[i][j-move] == -1:\n",
    "                        evaluation[i][j-move] = currenteval + 1                   \n",
    "    return evaluation\n",
    "\n",
    "evalpuzzle = []\n",
    "# initialize the eval board\n",
    "for i in range(size):\n",
    "    temp = []\n",
    "    for j in range(size):\n",
    "        temp.append(-1)\n",
    "    evalpuzzle.append(temp)\n",
    "            \n",
    "evalpuzzle[0][0] = 0\n",
    "showboard(evalpuzzle)\n",
    "\n",
    "current = 0\n",
    "done = False\n",
    "temp = copyBoard(evalpuzzle)\n",
    "print(temp)\n",
    "while not done:\n",
    "    temp2 = evaluateboard(b,copyBoard(temp),current,size)\n",
    "    temp = copyBoard(temp2)\n",
    "    temp3 = evaluateboard(b,copyBoard(temp),current+1,size)\n",
    "    if temp2 == temp3:\n",
    "        done = True\n",
    "    else:\n",
    "        temp = copyBoard(temp3)\n",
    "        current += 2\n",
    "evalpuzzle = temp\n",
    "# evaluateboard(b, evalpuzzle, 0, size)\n",
    "# evaluateboard(b,evalpuzzle,1,size)\n",
    "# evaluateboard(b,evalpuzzle,2,size)\n",
    "# evaluateboard(b,evalpuzzle,3,size)\n",
    "showboard(temp2)\n",
    "# temp = evalpuzzle\n",
    "# current = 0\n",
    "# while not evaluateboard(b, temp, current, size) != evalpuzzle:\n",
    "#     evalpuzzle = evaluateboard(b, evalpuzzle, current, size)\n",
    "#     temp = evalpuzzle\n",
    "#     current += 1\n",
    "    \n",
    "# showboard(evalpuzzle)\n",
    "                "
   ]
  },
  {
   "cell_type": "code",
   "execution_count": null,
   "metadata": {},
   "outputs": [],
   "source": [
    "b ="
   ]
  }
 ],
 "metadata": {
  "kernelspec": {
   "display_name": "Python 3",
   "language": "python",
   "name": "python3"
  },
  "language_info": {
   "codemirror_mode": {
    "name": "ipython",
    "version": 3
   },
   "file_extension": ".py",
   "mimetype": "text/x-python",
   "name": "python",
   "nbconvert_exporter": "python",
   "pygments_lexer": "ipython3",
   "version": "3.6.4"
  }
 },
 "nbformat": 4,
 "nbformat_minor": 2
}
