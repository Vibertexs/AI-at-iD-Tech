{
 "cells": [
  {
   "cell_type": "code",
   "execution_count": 25,
   "metadata": {},
   "outputs": [],
   "source": [
    "# Imports Tenserfow and renames it as tf\n",
    "import tensorflow as tf"
   ]
  },
  {
   "cell_type": "code",
   "execution_count": 26,
   "metadata": {},
   "outputs": [],
   "source": [
    "#Clears the tensorflow's graph\n",
    "tf.reset_default_graph()\n",
    "\n",
    "test_constant = tf.constant(10.0,dtype=tf.float32)\n",
    "add_one_operation = test_constant + 1"
   ]
  },
  {
   "cell_type": "code",
   "execution_count": 27,
   "metadata": {},
   "outputs": [
    {
     "name": "stdout",
     "output_type": "stream",
     "text": [
      "11.0\n"
     ]
    }
   ],
   "source": [
    "# Runs a session\n",
    "tf.Session()\n",
    "with tf.Session() as sess:\n",
    "    print(sess.run(add_one_operation))"
   ]
  },
  {
   "cell_type": "code",
   "execution_count": 28,
   "metadata": {},
   "outputs": [],
   "source": [
    "# Creates placeholder\n",
    "tf.reset_default_graph()\n",
    "\n",
    "input_data = tf.placeholder(dtype=tf.float32, shape=[None, 2])\n",
    "\n",
    "double_operation = input_data * 2"
   ]
  },
  {
   "cell_type": "code",
   "execution_count": 29,
   "metadata": {},
   "outputs": [
    {
     "name": "stdout",
     "output_type": "stream",
     "text": [
      "[[2. 4.]\n",
      " [6. 8.]]\n"
     ]
    }
   ],
   "source": [
    "# run a session\n",
    "with tf.Session() as sess:\n",
    "    print(sess.run(double_operation, feed_dict={input_data: [[1, 2],[3, 4]]}))"
   ]
  },
  {
   "cell_type": "code",
   "execution_count": 93,
   "metadata": {},
   "outputs": [],
   "source": [
    "#creatin variables\n",
    "tf.reset_default_graph()\n",
    "\n",
    "input_data = tf.placeholder(dtype=tf.float32, shape=None)\n",
    "output_data = tf.placeholder(dtype=tf.float32, shape=None)\n",
    "\n",
    "slope = tf.Variable(0.5, dtype=tf.float32)\n",
    "intercept = tf.Variable(3.0, dtype=tf.float32)\n",
    "# to calculate the models's guess\n",
    "model_operation = slope *input_data + intercept\n",
    "\n",
    "error = model_operation - output_data\n",
    "# squares the error\n",
    "squared_error = tf.square(error)\n",
    "# to find average\n",
    "loss = tf.reduce_mean(squared_error)\n",
    "\n",
    "optimizer = tf.train.GradientDescentOptimizer(learning_rate=0.005)\n",
    "train = optimizer.minimize(loss)"
   ]
  },
  {
   "cell_type": "code",
   "execution_count": 95,
   "metadata": {},
   "outputs": [
    {
     "name": "stdout",
     "output_type": "stream",
     "text": [
      "[0.55, 3.01]\n",
      "[1.4159116, 2.6630456]\n",
      "[1.5672907, 2.2335577]\n",
      "[1.6790832, 1.9148629]\n",
      "[1.7619936, 1.678504]\n",
      "[1.8234837, 1.5032095]\n",
      "[1.8690877, 1.3732032]\n",
      "[1.9029093, 1.2767844]\n",
      "[1.9279929, 1.2052761]\n",
      "[1.9465961, 1.1522424]\n",
      "[1.9603933, 1.1129099]\n",
      "[1.9706261, 1.0837383]\n",
      "[1.9782151, 1.0621043]\n",
      "[1.9838432, 1.0460594]\n",
      "[1.9880173, 1.0341603]\n",
      "[1.9911131, 1.0253347]\n",
      "[1.9934089, 1.0187896]\n",
      "[1.9951117, 1.0139356]\n",
      "[1.9963748, 1.0103345]\n",
      "[1.9973115, 1.0076644]\n",
      "1.0895243e-05\n"
     ]
    }
   ],
   "source": [
    "# running the session\n",
    "\n",
    "init = tf.global_variables_initializer()\n",
    "\n",
    "x_values = [0, 1, 2, 3, 4]\n",
    "y_values = [1, 3, 5, 7, 9]\n",
    "with tf.Session() as sess:\n",
    "    sess.run(init)\n",
    "    for i in range(2000):\n",
    "        sess.run(train, feed_dict = {input_data:x_values, output_data: y_values})\n",
    "        if i % 100 == 0:\n",
    "            print(sess.run([slope, intercept]))\n",
    "    print(sess.run(loss, feed_dict={input_data:x_values, output_data: y_values}))"
   ]
  },
  {
   "cell_type": "code",
   "execution_count": null,
   "metadata": {},
   "outputs": [],
   "source": []
  }
 ],
 "metadata": {
  "kernelspec": {
   "display_name": "Python 3",
   "language": "python",
   "name": "python3"
  },
  "language_info": {
   "codemirror_mode": {
    "name": "ipython",
    "version": 3
   },
   "file_extension": ".py",
   "mimetype": "text/x-python",
   "name": "python",
   "nbconvert_exporter": "python",
   "pygments_lexer": "ipython3",
   "version": "3.6.4"
  }
 },
 "nbformat": 4,
 "nbformat_minor": 2
}
