{
 "cells": [
  {
   "cell_type": "code",
   "execution_count": 2,
   "metadata": {},
   "outputs": [
    {
     "name": "stdout",
     "output_type": "stream",
     "text": [
      "please give a number1\n",
      "1\n",
      "its odd\n"
     ]
    }
   ],
   "source": [
    "num1 = int(input(\"please give a number\"))\n",
    "print(num1)\n",
    "if num1 % 2 == 0:\n",
    "    print(\"its even\")\n",
    "else:\n",
    "    print(\"its odd\")"
   ]
  },
  {
   "cell_type": "code",
   "execution_count": 1,
   "metadata": {},
   "outputs": [
    {
     "name": "stdout",
     "output_type": "stream",
     "text": [
      "please give a number8\n",
      "8\n",
      "your number is divisable by 4\n"
     ]
    }
   ],
   "source": [
    "num1 = int(input(\"please give a number\"))\n",
    "print(num1)\n",
    "if num1 % 4 == 0:\n",
    "    print(\"your number is divisable by 4\")\n",
    "else:\n",
    "    print(\"your number is not divisible by 4\")"
   ]
  },
  {
   "cell_type": "code",
   "execution_count": 4,
   "metadata": {},
   "outputs": [
    {
     "name": "stdout",
     "output_type": "stream",
     "text": [
      "please give a number4\n",
      "please give a 2nd number2\n",
      "4 is divisible by 2\n"
     ]
    }
   ],
   "source": [
    "num1 = int(input(\"please give a number\"))\n",
    "check = int(input(\"please give a 2nd number\"))\n",
    "if num1 % check == 0:\n",
    "    print(str(num1) + \" is divisible by \" + str(check))\n",
    "else:\n",
    "    print(str(num1) + \" isn't divisible by \" + str(check))"
   ]
  },
  {
   "cell_type": "code",
   "execution_count": 6,
   "metadata": {},
   "outputs": [
    {
     "name": "stdout",
     "output_type": "stream",
     "text": [
      "Please choose a diffuculty for this game, '1, 2, or 3'1\n",
      "you selected level 1\n",
      "please pick any number2\n"
     ]
    },
    {
     "ename": "NameError",
     "evalue": "name 'answer' is not defined",
     "output_type": "error",
     "traceback": [
      "\u001b[0;31m---------------------------------------------------------------------------\u001b[0m",
      "\u001b[0;31mNameError\u001b[0m                                 Traceback (most recent call last)",
      "\u001b[0;32m<ipython-input-6-895a3ee987f5>\u001b[0m in \u001b[0;36m<module>\u001b[0;34m()\u001b[0m\n\u001b[1;32m     20\u001b[0m \u001b[0mguess\u001b[0m\u001b[0;34m(\u001b[0m\u001b[0;34m)\u001b[0m\u001b[0;34m\u001b[0m\u001b[0m\n\u001b[1;32m     21\u001b[0m \u001b[0;34m\u001b[0m\u001b[0m\n\u001b[0;32m---> 22\u001b[0;31m \u001b[0;32mif\u001b[0m \u001b[0manswer\u001b[0m \u001b[0;34m==\u001b[0m \u001b[0mrand\u001b[0m\u001b[0;34m:\u001b[0m\u001b[0;34m\u001b[0m\u001b[0m\n\u001b[0m\u001b[1;32m     23\u001b[0m     \u001b[0mprint\u001b[0m\u001b[0;34m(\u001b[0m\u001b[0;34m\"you got one point\"\u001b[0m\u001b[0;34m)\u001b[0m\u001b[0;34m\u001b[0m\u001b[0m\n\u001b[1;32m     24\u001b[0m     \u001b[0mscore\u001b[0m \u001b[0;34m+=\u001b[0m \u001b[0;36m1\u001b[0m\u001b[0;34m\u001b[0m\u001b[0m\n",
      "\u001b[0;31mNameError\u001b[0m: name 'answer' is not defined"
     ]
    }
   ],
   "source": [
    "#PROBLEM TWO#\n",
    "import random\n",
    "score = 0\n",
    "\n",
    "def guess():\n",
    "    answer = int(input(\"please pick any number\"))\n",
    "    \n",
    "def level():\n",
    "    a = int(input(\"Please choose a diffuculty for this game, '1, 2, or 3'\"))\n",
    "\n",
    "    if a == 1:\n",
    "        print(\"you selected level 1\")\n",
    "        rand = random.randint(1,3)\n",
    "    elif a == 2:\n",
    "        print(\"you selected level 2\")\n",
    "        rand = random.randint(1,5)\n",
    "    elif a == 3:\n",
    "        print(\"you selected level 3\")\n",
    "        rand = random.randint(1,10)\n",
    "        gue\n",
    "level()\n",
    "guess()\n",
    "\n",
    "if answer == rand:\n",
    "    print(\"you got one point\")\n",
    "    score += 1\n",
    "    guess()\n",
    "else:\n",
    "    print(\"your answer was inccorrect\")\n",
    "    guess()\n",
    "    "
   ]
  },
  {
   "cell_type": "code",
   "execution_count": null,
   "metadata": {},
   "outputs": [],
   "source": []
  },
  {
   "cell_type": "code",
   "execution_count": null,
   "metadata": {},
   "outputs": [],
   "source": []
  }
 ],
 "metadata": {
  "kernelspec": {
   "display_name": "Python 3",
   "language": "python",
   "name": "python3"
  },
  "language_info": {
   "codemirror_mode": {
    "name": "ipython",
    "version": 3
   },
   "file_extension": ".py",
   "mimetype": "text/x-python",
   "name": "python",
   "nbconvert_exporter": "python",
   "pygments_lexer": "ipython3",
   "version": "3.6.4"
  }
 },
 "nbformat": 4,
 "nbformat_minor": 2
}
