{
 "cells": [
  {
   "cell_type": "code",
   "execution_count": 10,
   "metadata": {},
   "outputs": [],
   "source": [
    "import random as rand\n",
    "import tensorflow as tf"
   ]
  },
  {
   "cell_type": "code",
   "execution_count": 33,
   "metadata": {},
   "outputs": [
    {
     "name": "stdout",
     "output_type": "stream",
     "text": [
      "Pick a size?3\n",
      "[2, 2, 1]\n",
      "[2, 2, 1]\n",
      "[2, 2, 1]\n"
     ]
    }
   ],
   "source": [
    "import random as rand\n",
    "size = int(input(\"Pick a size?\"))\n",
    "size1 = size-1\n",
    "grid = []\n",
    "row = []\n",
    "for i in range(size):\n",
    "    r = rand.randint(1, size1)\n",
    "    row.append(r)\n",
    "for i in range(size):\n",
    "    r = rand.randint(1, size1)\n",
    "    grid.append(row)\n",
    "\n",
    "for i in range(len(grid)):\n",
    "        print(grid[i])"
   ]
  },
  {
   "cell_type": "code",
   "execution_count": null,
   "metadata": {
    "scrolled": true
   },
   "outputs": [],
   "source": [
    "import random\n",
    "def createBoard(num):\n",
    "    boardgrid = []\n",
    "    for i in range(num):\n",
    "        row = []\n",
    "        for x in range(num):\n",
    "            row.append(random.randint(1, num -1))\n",
    "        boardgrid.append(row)\n",
    "    return (boardgrid)\n",
    "\n",
    "def printBoard(board):\n",
    "    for x in range(len(board)):\n",
    "        print(board[x])\n",
    "num = int(input(\"Please pick a number for the size of your board\"))\n",
    "try:\n",
    "    board = createBoard(num)\n",
    "    printBoard(board)\n",
    "except ValueError:\n",
    "    print(\"An error occured! Try again\")"
   ]
  },
  {
   "cell_type": "code",
   "execution_count": 1,
   "metadata": {},
   "outputs": [
    {
     "name": "stdout",
     "output_type": "stream",
     "text": [
      "Please pick a number for the size of your board5\n",
      "[1, 3, 2, 1, 1]\n",
      "[3, 1, 3, 4, 1]\n",
      "[2, 3, 3, 4, 4]\n",
      "[1, 3, 3, 1, 3]\n",
      "[2, 1, 1, 4, 1]\n"
     ]
    }
   ],
   "source": [
    "import random\n",
    "def createBoard(num):\n",
    "    boardgrid = []\n",
    "    for i in range(num):\n",
    "        row = []\n",
    "        for x in range(num):\n",
    "            row.append(random.randint(1, num -1))\n",
    "        boardgrid.append(row)\n",
    "    return (boardgrid)\n",
    "\n",
    "def printBoard(board):\n",
    "    for x in range(len(board)):\n",
    "        print(board[x])\n",
    "num = int(input(\"Please pick a number for the size of your board\"))\n",
    "try:\n",
    "    board = createBoard(num)\n",
    "    printBoard(board)\n",
    "except ValueError:\n",
    "    print(\"An error occured! Try again\")"
   ]
  },
  {
   "cell_type": "code",
   "execution_count": null,
   "metadata": {},
   "outputs": [],
   "source": []
  }
 ],
 "metadata": {
  "kernelspec": {
   "display_name": "Python 3",
   "language": "python",
   "name": "python3"
  },
  "language_info": {
   "codemirror_mode": {
    "name": "ipython",
    "version": 3
   },
   "file_extension": ".py",
   "mimetype": "text/x-python",
   "name": "python",
   "nbconvert_exporter": "python",
   "pygments_lexer": "ipython3",
   "version": "3.6.4"
  }
 },
 "nbformat": 4,
 "nbformat_minor": 2
}
