{
 "cells": [
  {
   "cell_type": "code",
   "execution_count": 2,
   "metadata": {},
   "outputs": [
    {
     "name": "stdout",
     "output_type": "stream",
     "text": [
      "please give a number1\n",
      "1\n",
      "its odd\n"
     ]
    }
   ],
   "source": [
    "num1 = int(input(\"please give a number\"))\n",
    "print(num1)\n",
    "if num1 % 2 == 0:\n",
    "    print(\"its even\")\n",
    "else:\n",
    "    print(\"its odd\")"
   ]
  },
  {
   "cell_type": "code",
   "execution_count": 1,
   "metadata": {},
   "outputs": [
    {
     "name": "stdout",
     "output_type": "stream",
     "text": [
      "please give a number8\n",
      "8\n",
      "your number is divisable by 4\n"
     ]
    }
   ],
   "source": [
    "num1 = int(input(\"please give a number\"))\n",
    "print(num1)\n",
    "if num1 % 4 == 0:\n",
    "    print(\"your number is divisable by 4\")\n",
    "else:\n",
    "    print(\"your number is not divisible by 4\")"
   ]
  },
  {
   "cell_type": "code",
   "execution_count": 1,
   "metadata": {},
   "outputs": [
    {
     "name": "stdout",
     "output_type": "stream",
     "text": [
      "please give a number1\n",
      "please give a 2nd number2\n"
     ]
    }
   ],
   "source": [
    "num1 = int(input(\"please give a number\"))\n",
    "check = int(input(\"please give a 2nd number\"))\n"
   ]
  },
  {
   "cell_type": "code",
   "execution_count": null,
   "metadata": {},
   "outputs": [],
   "source": []
  }
 ],
 "metadata": {
  "kernelspec": {
   "display_name": "Python 3",
   "language": "python",
   "name": "python3"
  },
  "language_info": {
   "codemirror_mode": {
    "name": "ipython",
    "version": 3
   },
   "file_extension": ".py",
   "mimetype": "text/x-python",
   "name": "python",
   "nbconvert_exporter": "python",
   "pygments_lexer": "ipython3",
   "version": "3.6.4"
  }
 },
 "nbformat": 4,
 "nbformat_minor": 2
}
